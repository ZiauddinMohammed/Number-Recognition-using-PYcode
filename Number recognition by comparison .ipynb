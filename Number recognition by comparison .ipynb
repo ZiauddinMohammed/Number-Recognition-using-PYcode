{
 "cells": [
  {
   "cell_type": "code",
   "execution_count": 77,
   "metadata": {},
   "outputs": [],
   "source": [
    "from PIL import Image\n",
    "import numpy as np\n",
    "import matplotlib.pyplot as plt\n",
    "from functools import *\n",
    "from collections import Counter"
   ]
  },
  {
   "cell_type": "code",
   "execution_count": 37,
   "metadata": {},
   "outputs": [],
   "source": [
    "i=Image.open('images/numbers/0.1.png')\n",
    "iar=np.asarray(i)\n"
   ]
  },
  {
   "cell_type": "code",
   "execution_count": 59,
   "metadata": {},
   "outputs": [],
   "source": [
    "\n",
    "def threshold(imgArr):\n",
    "    balanceArr=[]\n",
    "    newArr=imgArr\n",
    "    for eachrow in imgArr:\n",
    "        for eachpix in eachrow:\n",
    "            avgnum=reduce(lambda x,y:x+y,eachpix[:3])/len(eachpix[:3])\n",
    "            balanceArr.append(avgnum)\n",
    "    balance=reduce(lambda x,y:x+y,balanceArr)/len(balanceArr)\n",
    "    for eachrow in newArr:\n",
    "        for eachpix in eachrow:\n",
    "            if reduce(lambda x,y:x+y,eachpix[:3])/len(eachpix[:3])> balance:\n",
    "                eachpix[0]=255\n",
    "                eachpix[1]=255\n",
    "                eachpix[2]=255\n",
    "                eachpix[3]=255\n",
    "            else:\n",
    "                eachpix[0]=0\n",
    "                eachpix[1]=0\n",
    "                eachpix[2]=0\n",
    "                eachpix[3]=255\n",
    "    return newArr\n",
    "            \n"
   ]
  },
  {
   "cell_type": "code",
   "execution_count": 60,
   "metadata": {},
   "outputs": [
    {
     "name": "stderr",
     "output_type": "stream",
     "text": [
      "C:\\Users\\USER\\Anaconda3\\lib\\site-packages\\ipykernel_launcher.py:7: RuntimeWarning: overflow encountered in ubyte_scalars\n",
      "  import sys\n",
      "C:\\Users\\USER\\Anaconda3\\lib\\site-packages\\ipykernel_launcher.py:12: RuntimeWarning: overflow encountered in ubyte_scalars\n",
      "  if sys.path[0] == '':\n"
     ]
    },
    {
     "data": {
      "image/png": "[encoded data removed]",
      "text/plain": [
       "<matplotlib.figure.Figure at 0x27279f060f0>"
      ]
     },
     "metadata": {},
     "output_type": "display_data"
    }
   ],
   "source": [
    "i1=Image.open('images/numbers/0.1.png')\n",
    "iar1=np.array(i1)\n",
    "i2=Image.open('images/numbers/y0.4.png')\n",
    "iar2=np.array(i2)\n",
    "i3=Image.open('images/numbers/y0.5.png')\n",
    "iar3=np.array(i3)\n",
    "i4=Image.open('images/sentdex.png')\n",
    "iar4=np.array(i4)\n",
    "threshold(iar1)\n",
    "threshold(iar2)\n",
    "threshold(iar3)\n",
    "threshold(iar4)\n",
    "\n",
    "fig=plt.figure()\n",
    "ax1=plt.subplot2grid((8,6),(0,0),rowspan=4,colspan=3)\n",
    "ax2=plt.subplot2grid((8,6),(0,3),rowspan=4,colspan=3)\n",
    "ax3=plt.subplot2grid((8,6),(4,0),rowspan=4,colspan=3)\n",
    "ax4=plt.subplot2grid((8,6),(4,3),rowspan=4,colspan=3)\n",
    "\n",
    "ax1.imshow(iar1)\n",
    "ax2.imshow(iar2)\n",
    "ax3.imshow(iar3)\n",
    "ax4.imshow(iar4)\n",
    "plt.show()"
   ]
  },
  {
   "cell_type": "code",
   "execution_count": 66,
   "metadata": {},
   "outputs": [],
   "source": [
    "def createExample():\n",
    "    numberArrayExamples=open('numArEx.txt','a')\n",
    "    numberWeHave=range(0,10)\n",
    "    versionsWeHave=range(1,10)\n",
    "    for eachNum in numberWeHave:\n",
    "        for eachVer in versionsWeHave:\n",
    "            imgFilePath='images/numbers/'+str(eachNum)+'.'+str(eachVer)+'.png'\n",
    "            ei=Image.open(imgFilePath)\n",
    "            eiar=np.array(ei)\n",
    "            eiar1=str(eiar.tolist())\n",
    "            \n",
    "            lineToWrite=str(eachNum)+'::'+eiar1+'\\n'\n",
    "\n",
    "createExample() "
   ]
  },
  {
   "cell_type": "code",
   "execution_count": 96,
   "metadata": {
    "scrolled": false
   },
   "outputs": [
    {
     "name": "stdout",
     "output_type": "stream",
     "text": [
      "Counter({8: 918, 9: 872, 3: 870, 6: 868, 5: 846, 2: 798, 0: 778, 7: 712, 4: 690, 1: 578})\n"
     ]
    },
    {
     "data": {
      "image/png": "[encoded data removed]",
      "text/plain": [
       "<matplotlib.figure.Figure at 0x2727a1b32b0>"
      ]
     },
     "metadata": {},
     "output_type": "display_data"
    }
   ],
   "source": [
    "def whatNumIsThis(filepath):\n",
    "    matchesAr=[]\n",
    "    loadExamp=open('numArEx.txt','r').read()\n",
    "    loadExamp=loadExamp.split('\\n')\n",
    "    \n",
    "    i=Image.open(filepath)\n",
    "    iar=np.array(i)\n",
    "    iar1=iar.tolist()\n",
    "    \n",
    "    inQuestion=str(iar1)\n",
    "    \n",
    "    for eachExample in loadExamp:\n",
    "        if len(eachExample)>3:\n",
    "            splitEx=eachExample.split('::')\n",
    "            currentNum=splitEx[0]\n",
    "            currentAr=splitEx[1]\n",
    "            eachPixEx=currentAr.split('],')\n",
    "            eachPixInq=inQuestion.split('],')\n",
    "            \n",
    "            x=0\n",
    "            while x<len(eachPixEx):\n",
    "                if eachPixEx[x]== eachPixInq[x]:\n",
    "                    matchesAr.append(int(currentNum))\n",
    "                x+=1\n",
    "    x=Counter(matchesAr)\n",
    "    print(x)\n",
    "    graphX=[]\n",
    "    graphY=[]\n",
    "    ylimi = 0\n",
    "    for eachThing in x:\n",
    "        graphX.append(eachThing)\n",
    "        graphY.append(x[eachThing])\n",
    "\n",
    "    fig=plt.figure()\n",
    "    ax1 = plt.subplot2grid((4,4),(0,0), rowspan=1, colspan=4)\n",
    "    ax2 = plt.subplot2grid((4,4),(1,0), rowspan=3,colspan=4)\n",
    "    ax1.imshow(iar)\n",
    "    ax2.bar(graphX,graphY,align='center')\n",
    "    plt.ylim(400)\n",
    "    xloc = plt.MaxNLocator(12)\n",
    "    ax2.xaxis.set_major_locator(xloc)\n",
    "    plt.show()\n",
    "    \n",
    "whatNumIsThis('images/test.png')"
   ]
  },
  {
   "cell_type": "code",
   "execution_count": 75,
   "metadata": {},
   "outputs": [
    {
     "name": "stdout",
     "output_type": "stream",
     "text": [
      "list index out of range\n",
      "Counter({2: 922, 3: 778, 6: 748, 9: 732, 5: 730, 7: 728, 8: 722, 0: 702, 1: 650, 4: 642})\n"
     ]
    }
   ],
   "source": [
    "def whatNumIsThis(filePath):\n",
    "\n",
    "    matchedAr = []\n",
    "    loadExamps = open('numArEx.txt','r').read()\n",
    "    loadExamps = loadExamps.split('\\n')\n",
    "    i = Image.open(filePath)\n",
    "    iar = np.array(i)\n",
    "    iarl = iar.tolist()\n",
    "    inQuestion = str(iarl)\n",
    "    for eachExample in loadExamps:\n",
    "        try:\n",
    "            splitEx = eachExample.split('::')\n",
    "            currentNum = splitEx[0]\n",
    "            currentAr = splitEx[1]\n",
    "            eachPixEx = currentAr.split('],')\n",
    "            eachPixInQ = inQuestion.split('],')\n",
    "            x = 0\n",
    "            while x < len(eachPixEx):\n",
    "                if eachPixEx[x] == eachPixInQ[x]:\n",
    "                    matchedAr.append(int(currentNum))\n",
    "\n",
    "                x+=1\n",
    "        except Exception as e:\n",
    "            print(str(e))\n",
    "                \n",
    "    x = Counter(matchedAr)\n",
    "    print(x)\n",
    "whatNumIsThis('images/test.png')"
   ]
  }
 ],
 "metadata": {
  "kernelspec": {
   "display_name": "Python 3",
   "language": "python",
   "name": "python3"
  },
  "language_info": {
   "codemirror_mode": {
    "name": "ipython",
    "version": 3
   },
   "file_extension": ".py",
   "mimetype": "text/x-python",
   "name": "python",
   "nbconvert_exporter": "python",
   "pygments_lexer": "ipython3",
   "version": "3.6.3"
  }
 },
 "nbformat": 4,
 "nbformat_minor": 2
}
